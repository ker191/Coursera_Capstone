{
 "cells": [
  {
   "cell_type": "markdown",
   "metadata": {},
   "source": [
    "# Washington D.C. Neighborhood Analysis\n",
    "**Capstone Project - The Battle of Neighborhoods (Week 1)**"
   ]
  },
  {
   "cell_type": "markdown",
   "metadata": {},
   "source": [
    "## 1. Introduction\n",
    "Washington D.C. has a racially and economically diverse population. While the current median income of D.C. as a whole is $85,203, this is hardly representative of the unique communities that compose the many neighborhoods of D.C. At 68 square miles with a population of 705,749, D.C. is made up of more than two dozen different neighborhoods with various cultures and personalities. Additionally, the racial and ethnic demographics of D.C. are reported to be 46% Black, 37.5% Non-Hispanic White, 11.3% Hispanic, 4.5% Asian, 2.9% Two or More Races, and 0.1% Native Hawaiian and Other Pacific Islanders [1], but this distribution may vary from neighborhood to neighborhood. In order to determine whether the needs of the community are being met by the businesses and services within that community, one needs to look at the racial and economic distribution within those communities rather than as a sum of all of D.C.\n",
    "\n",
    "This information can be especially useful to community organizations looking to improve resources to the community or government agencies who determine funding allocations for communities in need. Finding that a neighborhood is lacking resources like access to healthy foods, outdoor areas or exercise facilities, or access to food from a desired culture, can impact how the government decided to allocate those funds to improve resources for that community.\n",
    "\n",
    "The goal of this project will be to **first**, accurately describe the demographics within each neighborhood, and **second**, assess the businesses and facilities in that community to determine whether the needs of that community are being met. In order to characterize the demographics of each neighborhood, racial and economic distributions for different zip codes throughout Washington D.C. will be analyzed. Some questions that will be investigated include:\n",
    "    <blockquote>\n",
    "    <ol>\n",
    "    <li>How does the median income vary across zip codes?</li>\n",
    "    <li>Do the racial distributions of each zip code mirror the racial distribution of D.C. as a whole? That is, is the racial distribution fairly consistent throughout D.C. or do some neighborhoods have higher concentrations of some races/ethnicities than others?</li></ol></blockquote>\n",
    "    \n",
    "Once the neighborhoods are characterized by demographics, the task will be to analyze the businesses, services, and other facilities in each neighborhood to identify whether the needs of that community are being met. Some things to consider will be:\n",
    "    <blockquote>\n",
    "    <ol>\n",
    "    <li>Access to fresh, healthy, and affordable food: \n",
    "         <ul><li>Access to grocery stores and farmer's markets increase the likelihood that members of the community will be able to maintain a balanced and nutritious diet. In contrast, areas with high concentrations of fast food restaurants, which typically serve food high in fat, sodium, and calories, are more likely to inhibit community members' ability to maintain that balanced diet.</li></ul></li>\n",
    "    <li>Access to recreational or fitness activities:\n",
    "         <ul><li>Nearby fitness facilities, parks, or other outdoor areas increase the likelihood that members of the community will be able to lead an active lifestyle.</li></ul></li>\n",
    "    <li>Diversity of restaurant choices and specialty food stores:\n",
    "         <ul><li>The selection of restaurants and specialty food stores within a community may impact people's decisions when it comes to selecting nutritious and delicious foods. Some questions that will be investigated for this analysis include:\n",
    "             <ul><li>Do the type of restaurants in the community reflect the demographics of that community?</li>\n",
    "             <li>Is there a broad selection of different types of food available to members of that community?</li>\n",
    "             <li>Or are there limited restaurant options for memebers of that community?</li></ul></li>\n",
    "             </ul></li></ol></blockquote>\n",
    "             \n",
    "             \n",
    "#### References\n",
    "[1] US Census Bureau Quick Facts on Washington D.C. https://www.census.gov/quickfacts/fact/table/DC/PST045219"
   ]
  },
  {
   "cell_type": "code",
   "execution_count": null,
   "metadata": {},
   "outputs": [],
   "source": []
  }
 ],
 "metadata": {
  "kernelspec": {
   "display_name": "Python 3",
   "language": "python",
   "name": "python3"
  },
  "language_info": {
   "codemirror_mode": {
    "name": "ipython",
    "version": 3
   },
   "file_extension": ".py",
   "mimetype": "text/x-python",
   "name": "python",
   "nbconvert_exporter": "python",
   "pygments_lexer": "ipython3",
   "version": "3.6.10"
  }
 },
 "nbformat": 4,
 "nbformat_minor": 2
}
