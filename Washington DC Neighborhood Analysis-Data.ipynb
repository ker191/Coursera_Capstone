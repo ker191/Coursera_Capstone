{
 "cells": [
  {
   "cell_type": "markdown",
   "metadata": {},
   "source": [
    "# Washington D.C. Neighborhood Analysis\n",
    "**Capstone Project - The Battle of Neighborhoods (Week 1)**"
   ]
  },
  {
   "cell_type": "markdown",
   "metadata": {},
   "source": [
    "## 2. Data:\n",
    "#### Demographic Data scraped from D.C. Health Matters\n",
    "DC Health Matters provides a one-stop resource for online access to community health indicators and related resources that impact the health of DC communities. You will find up-to-date demographic, health and social determinants data; hundreds of maps, tables and figures; and, promising practices. Data on the racial demographics and median income for 29 different zip codes throughout D.C. will be scraped from the D.C. Health Matters and converted into a DataFrame for analysis.<br>\n",
    "*Website:* https://www.dchealthmatters.org/\n",
    "#### Venue Data pulled from FourSquare API \n",
    "The Foursquare API provides information about venues, users, photos, and check-ins based on location. The API supports real time access to places, Snap-to-Place that assigns users to specific locations, and Geo-tags. Data will be obtained from FourSquare by using the explore function to explore the venues, including grocery stores, restaurants, parks, and fitness facilities, within each zip code specified within the D.C. Health Matters data.<br>\n",
    "*Website:* https://api.foursquare.com/v2/venues/\n",
    "#### GeoJSON Data downloaded from Github user, Ben Balter\n",
    "GeoJSON provides the location data for Washington D.C. and is necessary for plotting maps with the Folium library. Github user, Ben Balter has collected GeoJSON data for various categories of venues through D.C. from Open Data DC (http://opendata.dc.gov/) and stored them in his account.<br>\n",
    "*Website:* https://github.com/benbalter/dc-maps<br>\n",
    "*Raw GeoJSON Data:* https://raw.githubusercontent.com/benbalter/dc-maps/master/maps/zip-codes.geojson<br>"
   ]
  },
  {
   "cell_type": "code",
   "execution_count": null,
   "metadata": {},
   "outputs": [],
   "source": []
  }
 ],
 "metadata": {
  "kernelspec": {
   "display_name": "Python 3",
   "language": "python",
   "name": "python3"
  },
  "language_info": {
   "codemirror_mode": {
    "name": "ipython",
    "version": 3
   },
   "file_extension": ".py",
   "mimetype": "text/x-python",
   "name": "python",
   "nbconvert_exporter": "python",
   "pygments_lexer": "ipython3",
   "version": "3.6.10"
  }
 },
 "nbformat": 4,
 "nbformat_minor": 2
}
